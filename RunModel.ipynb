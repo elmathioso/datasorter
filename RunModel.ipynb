{
 "cells": [
  {
   "cell_type": "code",
   "execution_count": 1,
   "metadata": {},
   "outputs": [
    {
     "name": "stderr",
     "output_type": "stream",
     "text": [
      "Using TensorFlow backend.\n"
     ]
    },
    {
     "name": "stdout",
     "output_type": "stream",
     "text": [
      " * Serving Flask app \"__main__\" (lazy loading)\n",
      " * Environment: production\n",
      "   WARNING: Do not use the development server in a production environment.\n",
      "   Use a production WSGI server instead.\n",
      " * Debug mode: off\n"
     ]
    },
    {
     "name": "stderr",
     "output_type": "stream",
     "text": [
      " * Running on http://0.0.0.0:5000/ (Press CTRL+C to quit)\n"
     ]
    }
   ],
   "source": [
    "from keras.models import load_model\n",
    "from keras.models import model_from_json\n",
    "\n",
    "from flask import Flask\n",
    "from flask import request\n",
    "from flask import send_from_directory\n",
    "\n",
    "# ---------------------\n",
    "# INSERT LIBRARIES HERE\n",
    "# ---------------------\n",
    " \n",
    "app = Flask(__name__)\n",
    "\n",
    "\n",
    "def returnModel(data):\n",
    "    global model\n",
    "\n",
    "    # ----------------------------\n",
    "    # INSERT DATA PREPARATION HERE\n",
    "    # ----------------------------\n",
    "    \n",
    "    predicted    = (model.predict(preparedData))\n",
    "    return predicted\n",
    "\n",
    "\n",
    "\n",
    "def loadModel():\n",
    "    global model\n",
    "    with open('datasorter.json', 'r') as json_file:\n",
    "        loaded_model_json = json_file.read()\n",
    "        model = model_from_json(loaded_model_json)\n",
    "        model.load_weights(\"datasorter.h5\")\n",
    "        json_file.close()\n",
    "\n",
    "\n",
    "# Main endpoint\n",
    "@app.route('/', methods=['GET', 'POST'])\n",
    "def hello_world():\n",
    "    global model\n",
    "    \n",
    "\n",
    "    if request.method == 'GET':\n",
    "        \n",
    "        # return API page when GET request submitted\n",
    "        return send_from_directory('templates/', 'api.html')\n",
    "\n",
    "\n",
    "            \n",
    "    if request.method == 'POST':\n",
    "\n",
    "        # Verify proper basic authentication\n",
    "        if request.headers['Content-Type'] == 'application/json' and request.json['username'] == 'username' and request.json['password'] == 'password':\n",
    "            \n",
    "            try:            \n",
    "                data       = request.json['data']\n",
    "                result     = returnModel(data)\n",
    "                prediction = {'prediction':result}\n",
    "            except:\n",
    "                return \"Error\"\n",
    "            return json.dumps(returnDict)\n",
    "\n",
    "         \n",
    "         \n",
    "# Application start\n",
    "if __name__ == \"__main__\":\n",
    "    loadModel()\n",
    "    app.run(host='0.0.0.0', port=5000)"
   ]
  },
  {
   "cell_type": "code",
   "execution_count": null,
   "metadata": {
    "collapsed": true
   },
   "outputs": [],
   "source": []
  }
 ],
 "metadata": {
  "kernelspec": {
   "display_name": "Python 3",
   "language": "python",
   "name": "python3"
  },
  "language_info": {
   "codemirror_mode": {
    "name": "ipython",
    "version": 3
   },
   "file_extension": ".py",
   "mimetype": "text/x-python",
   "name": "python",
   "nbconvert_exporter": "python",
   "pygments_lexer": "ipython3",
   "version": "3.5.5"
  }
 },
 "nbformat": 4,
 "nbformat_minor": 2
}
